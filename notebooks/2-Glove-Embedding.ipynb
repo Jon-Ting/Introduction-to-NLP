{
 "cells": [
  {
   "cell_type": "markdown",
   "id": "e579a817",
   "metadata": {},
   "source": [
    "#  RNN with GloVe Embeddings  \n",
    "In this notebook, we will look at using trained word embeddings for our headlines data in a RNN model. Since good result for word embedding training can be achieved with big generic corpus, so it is usually more efficient to use existing embedding vectors from other resources as long as the semantics will match with your downstream tasks. After this notebook, you will be able to replace the embedding layer with the GloVe embeddings and tune your RNN model for a sementic analysis task.\n",
    "\n",
    "**Outline**\n",
    "- Load and process pretrained GloVe word2vec embeddings\n",
    "- Build a classification RNN using GloVe embeddings\n",
    "- Train and evaluate the RNN for semantic analysis  \n",
    "\n",
    "**Estimated time:** \n",
    " 30 mins"
   ]
  },
  {
   "cell_type": "code",
   "execution_count": 3,
   "id": "bc38c7e1",
   "metadata": {
    "tags": []
   },
   "outputs": [],
   "source": [
    "### Change notebook directory, for Gadi environment only\n",
    "import os\n",
    "\n",
    "working_path = os.path.expandvars(\"/scratch/vp91/$USER/Introduction-to-NLP/\")\n",
    "os.chdir(working_path)\n",
    "data_path = '/scratch/vp91/NLP-2024/data/'\n",
    "model_path = '/scratch/vp91/NLP-2024/model/'"
   ]
  },
  {
   "cell_type": "code",
   "execution_count": null,
   "id": "4410c323",
   "metadata": {},
   "outputs": [],
   "source": [
    "# local paths\n",
    "# working_path = './'\n",
    "# data_path = '../data/'\n",
    "# model_path = '../model/'"
   ]
  },
  {
   "cell_type": "code",
   "execution_count": 4,
   "id": "74708104",
   "metadata": {
    "tags": []
   },
   "outputs": [
    {
     "name": "stderr",
     "output_type": "stream",
     "text": [
      "/scratch/vp91/NLP-2024/nlp_env/lib/python3.7/site-packages/tqdm/auto.py:21: TqdmWarning: IProgress not found. Please update jupyter and ipywidgets. See https://ipywidgets.readthedocs.io/en/stable/user_install.html\n",
      "  from .autonotebook import tqdm as notebook_tqdm\n"
     ]
    }
   ],
   "source": [
    "import torch\n",
    "import torch.nn as nn\n",
    "from torch.utils.data import DataLoader, TensorDataset\n",
    "\n",
    "import pickle\n",
    "import pandas as pd\n",
    "import numpy as np\n",
    "\n",
    "import matplotlib.pyplot as plt\n",
    "import seaborn as sns\n",
    "sns.set_style(\"darkgrid\")\n"
   ]
  },
  {
   "cell_type": "code",
   "execution_count": 5,
   "id": "3b82dadd",
   "metadata": {
    "tags": []
   },
   "outputs": [
    {
     "name": "stdout",
     "output_type": "stream",
     "text": [
      "[['thirtysomething', 'scientist', 'unveil', 'doomsday', 'clock', 'hair', 'loss'], ['dem', 'rep', 'totally', 'nail', 'congress', 'falling', 'short', 'gender', 'racial', 'equality'], ['eat', 'veggie', 'deliciously', 'different', 'recipe'], ['inclement', 'weather', 'prevents', 'liar', 'getting', 'work'], ['mother', 'come', 'pretty', 'close', 'using', 'word', 'streaming', 'correctly'], ['white', 'inheritance'], ['way', 'file', 'tax', 'le', 'stress'], ['richard', 'branson', 'global', 'warming', 'donation', 'nearly', 'much', 'cost', 'failed', 'balloon', 'trip'], ['shadow', 'government', 'getting', 'large', 'meet', 'marriott', 'conference', 'room', 'b'], ['lot', 'parent', 'know', 'scenario']]\n"
     ]
    }
   ],
   "source": [
    "# load our tokens back\n",
    "with open(working_path+'tokens.pkl', 'rb') as f:\n",
    "    tokens = pickle.load(f)\n",
    "print(tokens[:10])"
   ]
  },
  {
   "cell_type": "markdown",
   "id": "2f0f38cf",
   "metadata": {},
   "source": [
    "## GloVe Embedding"
   ]
  },
  {
   "cell_type": "markdown",
   "id": "943b95c2",
   "metadata": {},
   "source": [
    "\n",
    "For this workshop, we use a pretrianed GloVe word vectors that is trained from wikipedia in 2014. GloVe models are trained by using word-word co-occurance statistics from the corpus. We are using the smallest word vectors with 6 billion uncased tokens and about 822 MB in size.  \n",
    "\n",
    "Say $x_{ij}$ is the frequency that word $j$ occurs in the context of word $i$, for example, before or after the word $i$ within 10 words. If using $k$ to represent any word, then the frequency for any word to occur in woed $i$ context, we have \n",
    "\n",
    "$$x_{i}=\\sum_{k} x_{ik}$$  \n",
    "\n",
    "and the probability of word $j$ to occur in the context of word $i$ (Co-occurance probability) is \n",
    "$$p_{ij}=P(w_j\\mid w_i)=\\frac{x_{ij}}{x_i}$$\n",
    "\n",
    "Then a function was designed to be equal to $$\\frac{p_{ik}}{p_{jk}}$$ so the process of training is to minimise the loss between the designed function and the fraction of co-occurrance probability.  \n",
    "\n",
    "[Learn more about GloVe](https://nlp.stanford.edu/projects/glove/)   \n",
    "\n",
    "<div class=\"alert alert-block alert-info\">\n",
    "\n",
    "Word vectors is a representation of words co-occurance, so if you want to build a model for ancient literatures, sci-fi novels, hate speeches or other type of text that has very different word-word relationships, you can choose to train your own word vectors by building a word2vec modle in pytorch.\n",
    "</div>\n"
   ]
  },
  {
   "cell_type": "code",
   "execution_count": null,
   "id": "03fa7f5c",
   "metadata": {},
   "outputs": [],
   "source": [
    "# download GloVe\n",
    "# !curl https://downloads.cs.stanford.edu/nlp/data/wordvecs/glove.6B.zip -o glove.6B.zip\n",
    "# !unzip glove.6B.zip"
   ]
  },
  {
   "cell_type": "markdown",
   "id": "9416b2e0",
   "metadata": {},
   "source": [
    "Now lets have a look at the word vectors. You can choose different dimensions, 50, 100, 200 or 300 to compare their performance in later tasks. But keep in mind that this will impact the number of dimensions in the neural network as well."
   ]
  },
  {
   "cell_type": "code",
   "execution_count": 6,
   "id": "c045456a",
   "metadata": {
    "tags": []
   },
   "outputs": [
    {
     "data": {
      "text/html": [
       "<div>\n",
       "<style scoped>\n",
       "    .dataframe tbody tr th:only-of-type {\n",
       "        vertical-align: middle;\n",
       "    }\n",
       "\n",
       "    .dataframe tbody tr th {\n",
       "        vertical-align: top;\n",
       "    }\n",
       "\n",
       "    .dataframe thead th {\n",
       "        text-align: right;\n",
       "    }\n",
       "</style>\n",
       "<table border=\"1\" class=\"dataframe\">\n",
       "  <thead>\n",
       "    <tr style=\"text-align: right;\">\n",
       "      <th></th>\n",
       "      <th>1</th>\n",
       "      <th>2</th>\n",
       "      <th>3</th>\n",
       "      <th>4</th>\n",
       "      <th>5</th>\n",
       "      <th>6</th>\n",
       "      <th>7</th>\n",
       "      <th>8</th>\n",
       "      <th>9</th>\n",
       "      <th>10</th>\n",
       "      <th>...</th>\n",
       "      <th>91</th>\n",
       "      <th>92</th>\n",
       "      <th>93</th>\n",
       "      <th>94</th>\n",
       "      <th>95</th>\n",
       "      <th>96</th>\n",
       "      <th>97</th>\n",
       "      <th>98</th>\n",
       "      <th>99</th>\n",
       "      <th>100</th>\n",
       "    </tr>\n",
       "    <tr>\n",
       "      <th>0</th>\n",
       "      <th></th>\n",
       "      <th></th>\n",
       "      <th></th>\n",
       "      <th></th>\n",
       "      <th></th>\n",
       "      <th></th>\n",
       "      <th></th>\n",
       "      <th></th>\n",
       "      <th></th>\n",
       "      <th></th>\n",
       "      <th></th>\n",
       "      <th></th>\n",
       "      <th></th>\n",
       "      <th></th>\n",
       "      <th></th>\n",
       "      <th></th>\n",
       "      <th></th>\n",
       "      <th></th>\n",
       "      <th></th>\n",
       "      <th></th>\n",
       "      <th></th>\n",
       "    </tr>\n",
       "  </thead>\n",
       "  <tbody>\n",
       "    <tr>\n",
       "      <th>the</th>\n",
       "      <td>-0.038194</td>\n",
       "      <td>-0.244870</td>\n",
       "      <td>0.72812</td>\n",
       "      <td>-0.399610</td>\n",
       "      <td>0.083172</td>\n",
       "      <td>0.043953</td>\n",
       "      <td>-0.391410</td>\n",
       "      <td>0.334400</td>\n",
       "      <td>-0.57545</td>\n",
       "      <td>0.087459</td>\n",
       "      <td>...</td>\n",
       "      <td>0.016215</td>\n",
       "      <td>-0.017099</td>\n",
       "      <td>-0.389840</td>\n",
       "      <td>0.87424</td>\n",
       "      <td>-0.72569</td>\n",
       "      <td>-0.51058</td>\n",
       "      <td>-0.520280</td>\n",
       "      <td>-0.14590</td>\n",
       "      <td>0.82780</td>\n",
       "      <td>0.270620</td>\n",
       "    </tr>\n",
       "    <tr>\n",
       "      <th>,</th>\n",
       "      <td>-0.107670</td>\n",
       "      <td>0.110530</td>\n",
       "      <td>0.59812</td>\n",
       "      <td>-0.543610</td>\n",
       "      <td>0.673960</td>\n",
       "      <td>0.106630</td>\n",
       "      <td>0.038867</td>\n",
       "      <td>0.354810</td>\n",
       "      <td>0.06351</td>\n",
       "      <td>-0.094189</td>\n",
       "      <td>...</td>\n",
       "      <td>0.349510</td>\n",
       "      <td>-0.722600</td>\n",
       "      <td>0.375490</td>\n",
       "      <td>0.44410</td>\n",
       "      <td>-0.99059</td>\n",
       "      <td>0.61214</td>\n",
       "      <td>-0.351110</td>\n",
       "      <td>-0.83155</td>\n",
       "      <td>0.45293</td>\n",
       "      <td>0.082577</td>\n",
       "    </tr>\n",
       "    <tr>\n",
       "      <th>.</th>\n",
       "      <td>-0.339790</td>\n",
       "      <td>0.209410</td>\n",
       "      <td>0.46348</td>\n",
       "      <td>-0.647920</td>\n",
       "      <td>-0.383770</td>\n",
       "      <td>0.038034</td>\n",
       "      <td>0.171270</td>\n",
       "      <td>0.159780</td>\n",
       "      <td>0.46619</td>\n",
       "      <td>-0.019169</td>\n",
       "      <td>...</td>\n",
       "      <td>-0.063351</td>\n",
       "      <td>-0.674120</td>\n",
       "      <td>-0.068895</td>\n",
       "      <td>0.53604</td>\n",
       "      <td>-0.87773</td>\n",
       "      <td>0.31802</td>\n",
       "      <td>-0.392420</td>\n",
       "      <td>-0.23394</td>\n",
       "      <td>0.47298</td>\n",
       "      <td>-0.028803</td>\n",
       "    </tr>\n",
       "    <tr>\n",
       "      <th>of</th>\n",
       "      <td>-0.152900</td>\n",
       "      <td>-0.242790</td>\n",
       "      <td>0.89837</td>\n",
       "      <td>0.169960</td>\n",
       "      <td>0.535160</td>\n",
       "      <td>0.487840</td>\n",
       "      <td>-0.588260</td>\n",
       "      <td>-0.179820</td>\n",
       "      <td>-1.35810</td>\n",
       "      <td>0.425410</td>\n",
       "      <td>...</td>\n",
       "      <td>0.187120</td>\n",
       "      <td>-0.018488</td>\n",
       "      <td>-0.267570</td>\n",
       "      <td>0.72700</td>\n",
       "      <td>-0.59363</td>\n",
       "      <td>-0.34839</td>\n",
       "      <td>-0.560940</td>\n",
       "      <td>-0.59100</td>\n",
       "      <td>1.00390</td>\n",
       "      <td>0.206640</td>\n",
       "    </tr>\n",
       "    <tr>\n",
       "      <th>to</th>\n",
       "      <td>-0.189700</td>\n",
       "      <td>0.050024</td>\n",
       "      <td>0.19084</td>\n",
       "      <td>-0.049184</td>\n",
       "      <td>-0.089737</td>\n",
       "      <td>0.210060</td>\n",
       "      <td>-0.549520</td>\n",
       "      <td>0.098377</td>\n",
       "      <td>-0.20135</td>\n",
       "      <td>0.342410</td>\n",
       "      <td>...</td>\n",
       "      <td>-0.131340</td>\n",
       "      <td>0.058617</td>\n",
       "      <td>-0.318690</td>\n",
       "      <td>-0.61419</td>\n",
       "      <td>-0.62393</td>\n",
       "      <td>-0.41548</td>\n",
       "      <td>-0.038175</td>\n",
       "      <td>-0.39804</td>\n",
       "      <td>0.47647</td>\n",
       "      <td>-0.159830</td>\n",
       "    </tr>\n",
       "  </tbody>\n",
       "</table>\n",
       "<p>5 rows × 100 columns</p>\n",
       "</div>"
      ],
      "text/plain": [
       "          1         2        3         4         5         6         7    \\\n",
       "0                                                                          \n",
       "the -0.038194 -0.244870  0.72812 -0.399610  0.083172  0.043953 -0.391410   \n",
       ",   -0.107670  0.110530  0.59812 -0.543610  0.673960  0.106630  0.038867   \n",
       ".   -0.339790  0.209410  0.46348 -0.647920 -0.383770  0.038034  0.171270   \n",
       "of  -0.152900 -0.242790  0.89837  0.169960  0.535160  0.487840 -0.588260   \n",
       "to  -0.189700  0.050024  0.19084 -0.049184 -0.089737  0.210060 -0.549520   \n",
       "\n",
       "          8        9         10   ...       91        92        93       94   \\\n",
       "0                                 ...                                          \n",
       "the  0.334400 -0.57545  0.087459  ...  0.016215 -0.017099 -0.389840  0.87424   \n",
       ",    0.354810  0.06351 -0.094189  ...  0.349510 -0.722600  0.375490  0.44410   \n",
       ".    0.159780  0.46619 -0.019169  ... -0.063351 -0.674120 -0.068895  0.53604   \n",
       "of  -0.179820 -1.35810  0.425410  ...  0.187120 -0.018488 -0.267570  0.72700   \n",
       "to   0.098377 -0.20135  0.342410  ... -0.131340  0.058617 -0.318690 -0.61419   \n",
       "\n",
       "         95       96        97       98       99        100  \n",
       "0                                                            \n",
       "the -0.72569 -0.51058 -0.520280 -0.14590  0.82780  0.270620  \n",
       ",   -0.99059  0.61214 -0.351110 -0.83155  0.45293  0.082577  \n",
       ".   -0.87773  0.31802 -0.392420 -0.23394  0.47298 -0.028803  \n",
       "of  -0.59363 -0.34839 -0.560940 -0.59100  1.00390  0.206640  \n",
       "to  -0.62393 -0.41548 -0.038175 -0.39804  0.47647 -0.159830  \n",
       "\n",
       "[5 rows x 100 columns]"
      ]
     },
     "execution_count": 6,
     "metadata": {},
     "output_type": "execute_result"
    }
   ],
   "source": [
    "glove = pd.read_csv(data_path + 'glove.6B.100d.txt', sep=\" \", quoting=3, header=None, index_col=0)\n",
    "glove.head()"
   ]
  },
  {
   "cell_type": "markdown",
   "id": "a46a6964",
   "metadata": {},
   "source": [
    "Now we put it in a dictionary so we can look up a word for its vector.\n",
    "<div class=\"alert alert-block alert-warning\">\n",
    "<b>Task 1.</b> <br>\n",
    "Put glove data in a dictionary, with words being the keys and row vectors being the array values.\n",
    "</div>"
   ]
  },
  {
   "cell_type": "code",
   "execution_count": 21,
   "id": "790be638-7774-4ea8-a0ae-675fc5ccfe93",
   "metadata": {
    "tags": []
   },
   "outputs": [],
   "source": [
    "# Identify duplicated index\n",
    "glove[glove.index.duplicated(keep='first')]\n",
    "glove = glove[~glove.index.duplicated(keep='first')]"
   ]
  },
  {
   "cell_type": "code",
   "execution_count": 22,
   "id": "86af49c1",
   "metadata": {
    "tags": []
   },
   "outputs": [],
   "source": [
    "### TODO\n",
    "glove_embedding = glove.to_dict('index')"
   ]
  },
  {
   "cell_type": "code",
   "execution_count": 23,
   "id": "b9280587",
   "metadata": {
    "scrolled": true,
    "tags": []
   },
   "outputs": [
    {
     "data": {
      "text/plain": [
       "{1: -0.038194,\n",
       " 2: -0.24487,\n",
       " 3: 0.72812,\n",
       " 4: -0.39961,\n",
       " 5: 0.083172,\n",
       " 6: 0.043953,\n",
       " 7: -0.39141,\n",
       " 8: 0.3344,\n",
       " 9: -0.57545,\n",
       " 10: 0.087459,\n",
       " 11: 0.28787,\n",
       " 12: -0.06731,\n",
       " 13: 0.30906,\n",
       " 14: -0.26384,\n",
       " 15: -0.13231,\n",
       " 16: -0.20757,\n",
       " 17: 0.33395,\n",
       " 18: -0.33848,\n",
       " 19: -0.31743,\n",
       " 20: -0.48336,\n",
       " 21: 0.1464,\n",
       " 22: -0.37304,\n",
       " 23: 0.34577,\n",
       " 24: 0.052041,\n",
       " 25: 0.44946,\n",
       " 26: -0.46971,\n",
       " 27: 0.02628,\n",
       " 28: -0.54155,\n",
       " 29: -0.15518,\n",
       " 30: -0.14107,\n",
       " 31: -0.039722,\n",
       " 32: 0.28277,\n",
       " 33: 0.14393,\n",
       " 34: 0.23464,\n",
       " 35: -0.31021,\n",
       " 36: 0.086173,\n",
       " 37: 0.20397,\n",
       " 38: 0.52624,\n",
       " 39: 0.17164,\n",
       " 40: -0.082378,\n",
       " 41: -0.71787,\n",
       " 42: -0.41531,\n",
       " 43: 0.20335,\n",
       " 44: -0.12763,\n",
       " 45: 0.41367,\n",
       " 46: 0.55187,\n",
       " 47: 0.57908,\n",
       " 48: -0.33477,\n",
       " 49: -0.36559,\n",
       " 50: -0.54857,\n",
       " 51: -0.062892,\n",
       " 52: 0.26584,\n",
       " 53: 0.30205,\n",
       " 54: 0.99775,\n",
       " 55: -0.80481,\n",
       " 56: -3.0243,\n",
       " 57: 0.01254,\n",
       " 58: -0.36942,\n",
       " 59: 2.2167,\n",
       " 60: 0.72201,\n",
       " 61: -0.24978,\n",
       " 62: 0.92136,\n",
       " 63: 0.034514,\n",
       " 64: 0.46745,\n",
       " 65: 1.1079,\n",
       " 66: -0.19358,\n",
       " 67: -0.074575,\n",
       " 68: 0.23353,\n",
       " 69: -0.052062,\n",
       " 70: -0.22044,\n",
       " 71: 0.057162,\n",
       " 72: -0.15806,\n",
       " 73: -0.30798,\n",
       " 74: -0.41625,\n",
       " 75: 0.37972,\n",
       " 76: 0.15006,\n",
       " 77: -0.53212,\n",
       " 78: -0.2055,\n",
       " 79: -1.2526,\n",
       " 80: 0.071624,\n",
       " 81: 0.70565,\n",
       " 82: 0.49744,\n",
       " 83: -0.42063,\n",
       " 84: 0.26148,\n",
       " 85: -1.538,\n",
       " 86: -0.30223,\n",
       " 87: -0.073438,\n",
       " 88: -0.28312,\n",
       " 89: 0.37104,\n",
       " 90: -0.25217,\n",
       " 91: 0.016215,\n",
       " 92: -0.017099,\n",
       " 93: -0.38984,\n",
       " 94: 0.87424,\n",
       " 95: -0.72569,\n",
       " 96: -0.51058,\n",
       " 97: -0.52028,\n",
       " 98: -0.1459,\n",
       " 99: 0.8278,\n",
       " 100: 0.27062}"
      ]
     },
     "execution_count": 23,
     "metadata": {},
     "output_type": "execute_result"
    }
   ],
   "source": [
    "glove_embedding['the']"
   ]
  },
  {
   "cell_type": "markdown",
   "id": "8b6f82b6",
   "metadata": {},
   "source": [
    "Now we need to extract the vectors from glove to match with our dataset vocabulary. We achieve this by building a weight matrix with the shape of `len(vocabulary) x word_vector_dimension`. This matrix of weights will then be loaded into our embedding layer of the model."
   ]
  },
  {
   "cell_type": "code",
   "execution_count": null,
   "id": "038445cd",
   "metadata": {},
   "outputs": [],
   "source": [
    "vocab = list(set([w for t in tokens for w in t]))\n",
    "vocab_size = len(vocab)\n",
    "print('Vocabulary size:{}'.format(vocab_size))"
   ]
  },
  {
   "cell_type": "markdown",
   "id": "75ba752f",
   "metadata": {},
   "source": [
    "<div class=\"alert alert-block alert-warning\">\n",
    "<b>Task 2. Complete the function: getGloveWeight( )</b><br>\n",
    "- Input parameter: the vocabulary, glove_embedding dictionary <br><br>\n",
    "- Output parameter: a weights_matrix of shape vocabulary_length x embedding dimmension <br><br>\n",
    "If the word in vocabulary exists in glove_embedding, assign the embedding values to the corresbonding row of weights_matrix; otherwise assign a random normal distribution numpy array.\n",
    "\n",
    "</div>"
   ]
  },
  {
   "cell_type": "code",
   "execution_count": null,
   "id": "63a1a5af",
   "metadata": {},
   "outputs": [],
   "source": [
    "def getGloveWeight(vocab, glove_embedding):\n",
    "    \n",
    "    ### TODO 2.1: initialise the empty matrix with the correct shape\n",
    "    weights_matrix =  np.zeros()\n",
    "    \n",
    "    for i, w in enumerate(vocab):\n",
    "        # if word exists in glove embedding, we add the embedding vector to weight matrix\n",
    "        if w in glove_embedding.keys():\n",
    "            \n",
    "            ### TODO 2.2: add the embedding vector to correct place in weight matrix\n",
    "            weights_matrix[i] = \n",
    "        # otherwise we intialise a random variable. \n",
    "        else: \n",
    "            weights_matrix[i] = np.random.normal(scale=0.6, size=(weights_matrix.shape[1], ))\n",
    "    return weights_matrix"
   ]
  },
  {
   "cell_type": "markdown",
   "id": "313edbab",
   "metadata": {},
   "source": [
    "The embedding layer stores the vectors of all vocabulary in a weight matrix, and accepts indexes for words to extract corresponding rows of vetors for each sequence input. The above function created the weight matrix. So we need to create the word_to_idx and idx_to_word dictionaries.  \n",
    "To feed the embeddings to the model later, we also need to make all sequenecs of tokens the same length. For padding shorter sequences, we add the special token `<pad>` to our vocabulary.\n"
   ]
  },
  {
   "cell_type": "code",
   "execution_count": null,
   "id": "be525329",
   "metadata": {},
   "outputs": [],
   "source": [
    "glove_embedding['<pad>'] = np.zeros((1,100))\n",
    "vocab.append('<pad>')\n",
    "\n",
    "idx_to_word = {}\n",
    "for i, w in enumerate(vocab):\n",
    "    idx_to_word[i] = w\n",
    "\n",
    "word_to_idx = {}\n",
    "for i, w in enumerate(vocab):\n",
    "    word_to_idx[w] = i\n",
    "\n",
    "print(word_to_idx['thirtysomething'])"
   ]
  },
  {
   "cell_type": "markdown",
   "id": "2b5040a3",
   "metadata": {},
   "source": [
    "Now we need to tranform our sequence of tokens to word indexes, also make them all the same length. Here we define sequence length as 15 and pad the short sequences with our special token while truncing the longer sequences.  \n",
    "  \n",
    "<div class=\"alert alert-block alert-warning\">\n",
    "<b>Task 3. Complete the function: formatLength( )</b><br>\n",
    "- Input parameter: the list of list of tokens, expected length <br><br>\n",
    "- Output parameter: the result list of list of tokens that all token lists have the expected length <br><br>\n",
    "\n",
    "\n",
    "</div>\n"
   ]
  },
  {
   "cell_type": "code",
   "execution_count": null,
   "id": "e51e42df",
   "metadata": {},
   "outputs": [],
   "source": [
    "seq_length = 15\n",
    "def formatLength(l, seq_length):\n",
    "    newl=[]\n",
    "    for i, s in enumerate(l):\n",
    "        \n",
    "        ### TODO 3: padding sequences that have length shorter than seq_length\n",
    "        if len(s)<=seq_length:\n",
    "            new_s =  \n",
    "            \n",
    "        # truncting longer sequences\n",
    "        else:\n",
    "            new_s=s[:seq_length]  \n",
    "        newl.append(new_s)\n",
    "    return newl"
   ]
  },
  {
   "cell_type": "markdown",
   "id": "c1f6fabf",
   "metadata": {},
   "source": [
    "Now we transfer our equal-length token lists from words to index using the word_to_index dictionary. Also confirm that all lists have the same length as specified in seq_length."
   ]
  },
  {
   "cell_type": "code",
   "execution_count": null,
   "id": "4022415a",
   "metadata": {
    "scrolled": true
   },
   "outputs": [],
   "source": [
    "idx_tokens = torch.tensor([[word_to_idx[w] for w in t] for t in formatLength(tokens,seq_length)])\n",
    "[print(len(l)) for l in idx_tokens if len(l)!=seq_length]"
   ]
  },
  {
   "cell_type": "markdown",
   "id": "edf6ac31",
   "metadata": {},
   "source": [
    "Now let's string above functions together and create the embedding layer with our new weights.\n",
    "<div class=\"alert alert-block alert-warning\">\n",
    "<b>Task 4. Complete the function: createEmbeddings( )</b><br>\n",
    "- Input parameter: the list of vocabulary, glove embedding dictionary <br><br>\n",
    "- Output parameter: torch embedding layer with GloVe weights. <br><br>\n",
    "\n",
    "</div>\n",
    "\n"
   ]
  },
  {
   "cell_type": "code",
   "execution_count": null,
   "id": "a40bc3b6",
   "metadata": {},
   "outputs": [],
   "source": [
    "# transfer our tokens to vectors\n",
    "def createEmbeddings(vocab, glove_embedding):\n",
    "    ### TODO 4.1: create weight matrix from GloVe weights by calling getGloveWeight()\n",
    "    weights_matrix = getGloveWeight()\n",
    "    \n",
    "    # load the weight matrix to a nn.Embedding layer, freeze=True means embedding weights will not be trained \n",
    "    ### TODO 4.2: convert weight_matrix to float tensor\n",
    "    emb_weights =  \n",
    "    \n",
    "    ### TODO 4.3: create embedding layer from pretrained weights\n",
    "    emb_layer = \n",
    "    return emb_layer"
   ]
  },
  {
   "cell_type": "markdown",
   "id": "ca0df1b1",
   "metadata": {},
   "source": [
    "**Building blocks:**   \n",
    "- [torch.Tensor](https://pytorch.org/docs/stable/tensors.html#torch.Tensor) \n",
    "- [`torch.nn.Embedding` class method `from_pretrained(embeddings, freeze=True, padding_idx=None, max_norm=None, norm_type=2.0, scale_grad_by_freq=False, sparse=False`](https://pytorch.org/docs/stable/_modules/torch/nn/modules/sparse.html#Embedding.from_pretrained)"
   ]
  },
  {
   "cell_type": "markdown",
   "id": "f10a694c",
   "metadata": {},
   "source": [
    "<div class=\"alert alert-block alert-info\"> \n",
    "Until now, we introduced static word embeddings, which means the same words will have the same weights in all texts they occur. There is also later developed dynamic word embeddings, which means for each occurence of the same word, the weight vectors depends on the context words around each occurence. You can find out more about <a href=\"https://dl.acm.org/doi/fullHtml/10.1145/3178876.3185999\">dynamic word embeddings</a>.\n",
    "</div>"
   ]
  },
  {
   "cell_type": "markdown",
   "id": "703ecc08",
   "metadata": {},
   "source": [
    "# Build RNN"
   ]
  },
  {
   "cell_type": "markdown",
   "id": "a3f6a2de",
   "metadata": {},
   "source": [
    "## Prepare Data for Training"
   ]
  },
  {
   "cell_type": "code",
   "execution_count": null,
   "id": "2fc4d1e5",
   "metadata": {
    "scrolled": true
   },
   "outputs": [],
   "source": [
    "# load our cleaned data back\n",
    "with open(working_path + 'data_clean.pkl', 'rb') as f:\n",
    "    data = pickle.load(f)\n",
    "data.head()"
   ]
  },
  {
   "cell_type": "markdown",
   "id": "dc572c30",
   "metadata": {},
   "source": [
    "Since we have transferred our data to vectors, we can call `TensorDataset` to load them."
   ]
  },
  {
   "cell_type": "code",
   "execution_count": null,
   "id": "34d26fb1",
   "metadata": {},
   "outputs": [],
   "source": [
    "labels = torch.FloatTensor(data.is_sarcastic.to_list())\n",
    "# split train test by 80/20\n",
    "training_data = TensorDataset(idx_tokens[:22895], labels[:22895])\n",
    "test_data = TensorDataset(idx_tokens[22895:], labels[22895:])\n",
    "# DataLoader to iterate and batch data quickly\n",
    "train_dataloader = DataLoader(training_data, batch_size=64, shuffle=True)\n",
    "test_dataloader = DataLoader(test_data, batch_size=64, shuffle=True)"
   ]
  },
  {
   "cell_type": "code",
   "execution_count": null,
   "id": "3c10036b",
   "metadata": {},
   "outputs": [],
   "source": [
    "training_data[0]"
   ]
  },
  {
   "cell_type": "markdown",
   "id": "cea47a95",
   "metadata": {},
   "source": [
    "<div class=\"alert alert-block alert-info\"> \n",
    "Play with different batch_size and learning rate later to see the model performance.\n",
    "\n",
    "</div>"
   ]
  },
  {
   "cell_type": "markdown",
   "id": "ce4399d6",
   "metadata": {},
   "source": [
    "## Define simpleRNN  \n",
    "Here we use the default embeddings first and Train the RNN. You can switch to the Glove Embeddings later and run below cells again to see the performance difference."
   ]
  },
  {
   "cell_type": "code",
   "execution_count": null,
   "id": "8183bc9a",
   "metadata": {},
   "outputs": [],
   "source": [
    "class simpleRNN(nn.Module):\n",
    "    def __init__(self, vocab_size, embedding_dim, hidden_size, num_layers, out_size):\n",
    "        super(simpleRNN,self).__init__()        \n",
    "        # TODO use Golve Embeddings, no training on embedding\n",
    "#         self.embeddings  = createEmbeddings(vocab,glove_embedding) \n",
    "\n",
    "        # use original embedding with training\n",
    "        self.embeddings  = nn.Embedding(vocab_size,embedding_dim)\n",
    "        self.vocab_size = vocab_size\n",
    "        self.embedding_dim = embedding_dim\n",
    "        self.hidden_size = hidden_size\n",
    "        self.num_layers = num_layers\n",
    "        self.rnn = nn.RNN(embedding_dim, \n",
    "                          hidden_size, \n",
    "                          num_layers, \n",
    "                          batch_first = True,\n",
    "                          dropout = 0,\n",
    "                          bidirectional = False\n",
    "                     )\n",
    "        self.out = nn.Linear(hidden_size, out_size)\n",
    "        \n",
    "    def forward(self, batch):\n",
    "        batch_size = batch.size()[0]\n",
    "        embed = self.embeddings(batch)\n",
    "        rnn_out, hidden = self.rnn(embed)\n",
    "        result = self.out(rnn_out[:,-1,:])\n",
    "        return result\n",
    "    \n",
    "    "
   ]
  },
  {
   "cell_type": "markdown",
   "id": "4405fab9",
   "metadata": {},
   "source": [
    "# Training"
   ]
  },
  {
   "cell_type": "code",
   "execution_count": null,
   "id": "059accd1",
   "metadata": {
    "scrolled": true
   },
   "outputs": [],
   "source": [
    "embed_dim = len(glove.columns)\n",
    "hidden_size, num_layers = 50, 1\n",
    "output_size = 1\n",
    "vocab_size = len(vocab)\n",
    "\n",
    "model = simpleRNN(vocab_size, embed_dim, hidden_size, num_layers,output_size)\n",
    "\n",
    "print(model)"
   ]
  },
  {
   "cell_type": "code",
   "execution_count": null,
   "id": "75653623",
   "metadata": {
    "scrolled": true
   },
   "outputs": [],
   "source": [
    "%%time\n",
    "print(\"Number of threads: \", torch.get_num_threads())\n",
    "\n",
    "# Training\n",
    "num_epochs, lr = 5, 0.01\n",
    "loss_function = nn.MSELoss()\n",
    "optimizer = torch.optim.SGD(model.parameters(), lr=lr)\n",
    "\n",
    "losses, train_acc= [], []\n",
    "epochs = []\n",
    "\n",
    "model.train()\n",
    "for e in range(num_epochs):\n",
    "    num_correct = 0\n",
    "    for d, l in train_dataloader:\n",
    "        model.zero_grad()\n",
    "        scores = model(d)\n",
    "        pred = torch.round(scores.squeeze())\n",
    "        \n",
    "        correct_tensor = pred.eq(l.float().view_as(pred))\n",
    "        correct = np.squeeze(correct_tensor.numpy())\n",
    "        num_correct += np.sum(correct)\n",
    "        loss = loss_function(scores.squeeze(), l)\n",
    "        loss.backward()\n",
    "        optimizer.step()\n",
    "    epochs.append(e)\n",
    "    losses.append(float(loss))\n",
    "    acc = num_correct/len(train_dataloader.dataset)\n",
    "    train_acc.append(acc)\n",
    "    print('Epoch {}, loss: {}, accuracy: {}'.format(e, loss, acc))\n",
    "\n",
    "# plot the results\n",
    "plt.title(\"Training Curve\")\n",
    "plt.plot(losses, label=\"Train\")\n",
    "plt.xlabel(\"Epoch\")\n",
    "plt.ylabel(\"Loss\")\n",
    "plt.show()\n",
    "\n",
    "plt.title(\"Training Curve\")\n",
    "plt.plot(epochs, train_acc, label=\"Train\")\n",
    "plt.xlabel(\"Epoch\")\n",
    "plt.ylabel(\"Accuracy\")\n",
    "plt.legend(loc='best')\n",
    "plt.show()"
   ]
  },
  {
   "cell_type": "markdown",
   "id": "84f1fb34",
   "metadata": {},
   "source": [
    "# Testing"
   ]
  },
  {
   "cell_type": "code",
   "execution_count": null,
   "id": "daac917c",
   "metadata": {},
   "outputs": [],
   "source": [
    "# Testing\n",
    "test_losses = []\n",
    "num_correct = 0\n",
    "\n",
    "model.eval()\n",
    "# iterate over test data\n",
    "for inputs, labels in test_dataloader:\n",
    "    # calculate loss\n",
    "    scores = model(inputs)\n",
    "    loss = loss_function(scores.squeeze(), labels)    \n",
    "    test_losses.append(loss.item())\n",
    "    # convert output probabilities to predicted class (0 or 1)\n",
    "    pred = torch.round(scores.squeeze())  # rounds to the nearest integer\n",
    "\n",
    "    # compare predictions to true label\n",
    "    correct_tensor = pred.eq(labels.float().view_as(pred))\n",
    "    correct = np.squeeze(correct_tensor.numpy())\n",
    "    num_correct += np.sum(correct)\n",
    "# avg test loss\n",
    "print(\"Test loss: {}\".format(np.mean(test_losses)))\n",
    "\n",
    "# accuracy over all test data\n",
    "test_acc = num_correct/len(test_dataloader.dataset)\n",
    "print(\"Test accuracy: {}\".format(test_acc))"
   ]
  },
  {
   "cell_type": "markdown",
   "id": "ad65489f",
   "metadata": {},
   "source": [
    "> Think:  \n",
    "> What should we do if the model is overfitting?   \n",
    ">\n",
    "\n"
   ]
  },
  {
   "cell_type": "markdown",
   "id": "5e8e65da",
   "metadata": {},
   "source": [
    "<div class=\"alert alert-block alert-warning\">\n",
    "<b>Task 5. Tuning for better performance</b><br>\n",
    "    1. Change hyperparameters<br>\n",
    "    2. Change batch_size<br>\n",
    "    3. Change optimizor<br>\n",
    "    4. Change nn.RNN parameters\n",
    "    \n",
    "    \n",
    "</div>\n",
    "\n",
    "**Building blocks:**   \n",
    "- [`torch.optim.SGD(params, lr=<required parameter>, momentum=0, dampening=0, weight_decay=0, nesterov=False, *, maximize=False, foreach=None)`](https://pytorch.org/docs/stable/generated/torch.optim.SGD.html#torch.optim.SGD)  \n",
    "- [Other optimizors](https://pytorch.org/docs/stable/optim.html#algorithms)  \n",
    "- [nn.RNN parameters](https://pytorch.org/docs/stable/generated/torch.nn.RNN.html#torch.nn.RNN)"
   ]
  },
  {
   "cell_type": "markdown",
   "id": "969bd884",
   "metadata": {},
   "source": [
    "<div class=\"alert alert-block alert-danger\">\n",
    "<b>Challenge:</b> <br>\n",
    "    1. Change num_layers to see the result.<br>\n",
    "    2. Add a dropout layer in the model class to improve the result. <br>\n",
    "    3. Change model to bidirectional, be careful with the shape match! <br>\n",
    "    4. Upgrade the model to LSTM or adding Attention layer if you have extra time.\n",
    "</div>  \n",
    "\n",
    "------------------------------------------  \n",
    "\n",
    "Congratulations! After Notebook 1 and 2, you now can clean text data, make tokens, and load the pre-trained weights to an embedding layer in your RNN. In the [next notebook](3-Q&A_bert.ipynb), we will make a small widget to answer questions from a text corpus using fine-tuned transformers. "
   ]
  }
 ],
 "metadata": {
  "kernelspec": {
   "display_name": "Python 3 (ipykernel)",
   "language": "python",
   "name": "python3"
  },
  "language_info": {
   "codemirror_mode": {
    "name": "ipython",
    "version": 3
   },
   "file_extension": ".py",
   "mimetype": "text/x-python",
   "name": "python",
   "nbconvert_exporter": "python",
   "pygments_lexer": "ipython3",
   "version": "3.7.4"
  },
  "vscode": {
   "interpreter": {
    "hash": "c4f5d7df9eebeb2fce5c7cb4fadb86274017838dfb7de8d5dd5849e5abb02796"
   }
  }
 },
 "nbformat": 4,
 "nbformat_minor": 5
}
